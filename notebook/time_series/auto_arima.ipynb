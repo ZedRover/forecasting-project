{
 "cells": [
  {
   "cell_type": "code",
   "execution_count": 37,
   "metadata": {},
   "outputs": [],
   "source": [
    "from statsmodels.tsa.arima_model import ARIMA\n",
    "import pmdarima as pm\n",
    "import pandas as pd\n",
    "import numpy as np\n",
    "import matplotlib.pyplot as plt\n",
    "import os\n",
    "import sys\n",
    "sys.path.append('../')\n",
    "import config\n",
    "import warnings\n",
    "warnings.filterwarnings('ignore')"
   ]
  },
  {
   "cell_type": "code",
   "execution_count": 38,
   "metadata": {},
   "outputs": [],
   "source": [
    "df = pd.read_csv('../../data/data_daily_with_aqi.csv')\n",
    "target = 'AQI'\n",
    "city ='北京'\n",
    "df_tgt = df[df.type==target].drop('type',axis=1)\n",
    "df_tgt_ct = df_tgt[['date',city]].rename(columns={'date':'ds',city:'y'})\n",
    "df_tgt_ct = df_tgt_ct.dropna()"
   ]
  },
  {
   "cell_type": "code",
   "execution_count": 39,
   "metadata": {},
   "outputs": [
    {
     "data": {
      "text/plain": [
       "(-5.4251242562740325,\n",
       " 2.9990413272316225e-06,\n",
       " 23,\n",
       " 2561,\n",
       " {'1%': -3.4329059807036155,\n",
       "  '5%': -2.8626692305213957,\n",
       "  '10%': -2.5673711311351712},\n",
       " 28249.92521076872)"
      ]
     },
     "execution_count": 39,
     "metadata": {},
     "output_type": "execute_result"
    }
   ],
   "source": [
    "from statsmodels.tsa.stattools import adfuller\n",
    "adfuller(df_tgt_ct['y'])"
   ]
  },
  {
   "cell_type": "code",
   "execution_count": 40,
   "metadata": {},
   "outputs": [
    {
     "name": "stdout",
     "output_type": "stream",
     "text": [
      "Performing stepwise search to minimize aic\n",
      " ARIMA(1,0,1)(0,0,0)[0] intercept   : AIC=28763.535, Time=0.48 sec\n",
      " ARIMA(0,0,0)(0,0,0)[0] intercept   : AIC=29490.235, Time=0.02 sec\n",
      " ARIMA(1,0,0)(0,0,0)[0] intercept   : AIC=28767.189, Time=0.04 sec\n",
      " ARIMA(0,0,1)(0,0,0)[0] intercept   : AIC=28926.297, Time=0.62 sec\n",
      " ARIMA(0,0,0)(0,0,0)[0]             : AIC=31802.386, Time=0.01 sec\n",
      " ARIMA(2,0,1)(0,0,0)[0] intercept   : AIC=28656.728, Time=2.04 sec\n",
      " ARIMA(2,0,0)(0,0,0)[0] intercept   : AIC=28764.955, Time=0.20 sec\n",
      " ARIMA(3,0,1)(0,0,0)[0] intercept   : AIC=28656.592, Time=1.55 sec\n",
      " ARIMA(3,0,0)(0,0,0)[0] intercept   : AIC=28759.106, Time=0.18 sec\n",
      " ARIMA(4,0,1)(0,0,0)[0] intercept   : AIC=28743.996, Time=0.56 sec\n",
      " ARIMA(3,0,2)(0,0,0)[0] intercept   : AIC=28747.258, Time=1.39 sec\n",
      " ARIMA(2,0,2)(0,0,0)[0] intercept   : AIC=28679.188, Time=1.29 sec\n",
      " ARIMA(4,0,0)(0,0,0)[0] intercept   : AIC=28742.254, Time=0.18 sec\n",
      " ARIMA(4,0,2)(0,0,0)[0] intercept   : AIC=28736.459, Time=1.64 sec\n",
      " ARIMA(3,0,1)(0,0,0)[0]             : AIC=28656.709, Time=0.65 sec\n",
      "\n",
      "Best model:  ARIMA(3,0,1)(0,0,0)[0] intercept\n",
      "Total fit time: 10.859 seconds\n"
     ]
    }
   ],
   "source": [
    "\n",
    "model = pm.auto_arima(df_tgt_ct['y'], start_p=1, start_q=1,\n",
    "                      information_criterion='aic',\n",
    "                      test='adf',       # use adftest to find optimal 'd'\n",
    "                      max_p=10, max_q=10,max_d=10, # maximum p and q\n",
    "                      start_d=1,\n",
    "                      m=1,              # frequency of series\n",
    "                      d=None,           # let model determine 'd'\n",
    "                      seasonal=True,   # No Seasonality\n",
    "                      trace=True,\n",
    "                      error_action='ignore',  \n",
    "                      suppress_warnings=False, \n",
    "                      stepwise=True)\n",
    "\n"
   ]
  },
  {
   "cell_type": "code",
   "execution_count": 41,
   "metadata": {},
   "outputs": [
    {
     "name": "stdout",
     "output_type": "stream",
     "text": [
      "(3, 0, 1)\n"
     ]
    }
   ],
   "source": [
    "print(model.order)"
   ]
  },
  {
   "cell_type": "code",
   "execution_count": 42,
   "metadata": {},
   "outputs": [
    {
     "name": "stdout",
     "output_type": "stream",
     "text": [
      "(0, 0, 0, 0)\n"
     ]
    }
   ],
   "source": [
    "print(model.seasonal_order)"
   ]
  },
  {
   "cell_type": "code",
   "execution_count": 43,
   "metadata": {},
   "outputs": [
    {
     "name": "stdout",
     "output_type": "stream",
     "text": [
      "                               SARIMAX Results                                \n",
      "==============================================================================\n",
      "Dep. Variable:                      y   No. Observations:                 2585\n",
      "Model:               SARIMAX(3, 0, 1)   Log Likelihood              -14322.296\n",
      "Date:                Fri, 20 May 2022   AIC                          28656.592\n",
      "Time:                        14:33:31   BIC                          28691.737\n",
      "Sample:                             0   HQIC                         28669.329\n",
      "                               - 2585                                         \n",
      "Covariance Type:                  opg                                         \n",
      "==============================================================================\n",
      "                 coef    std err          z      P>|z|      [0.025      0.975]\n",
      "------------------------------------------------------------------------------\n",
      "intercept      1.2645      0.466      2.711      0.007       0.350       2.179\n",
      "ar.L1          1.3549      0.020     66.779      0.000       1.315       1.395\n",
      "ar.L2         -0.4230      0.024    -17.637      0.000      -0.470      -0.376\n",
      "ar.L3          0.0531      0.015      3.554      0.000       0.024       0.082\n",
      "ma.L1         -0.9249      0.015    -61.952      0.000      -0.954      -0.896\n",
      "sigma2      3887.4207     63.946     60.792      0.000    3762.088    4012.753\n",
      "===================================================================================\n",
      "Ljung-Box (L1) (Q):                   0.00   Jarque-Bera (JB):              5021.51\n",
      "Prob(Q):                              0.98   Prob(JB):                         0.00\n",
      "Heteroskedasticity (H):               0.26   Skew:                             1.21\n",
      "Prob(H) (two-sided):                  0.00   Kurtosis:                         9.39\n",
      "===================================================================================\n",
      "\n",
      "Warnings:\n",
      "[1] Covariance matrix calculated using the outer product of gradients (complex-step).\n"
     ]
    }
   ],
   "source": [
    "print(model.summary())"
   ]
  },
  {
   "cell_type": "code",
   "execution_count": 44,
   "metadata": {},
   "outputs": [
    {
     "data": {
      "image/png": "[encoded data removed]",
      "text/plain": [
       "<Figure size 432x288 with 1 Axes>"
      ]
     },
     "metadata": {
      "needs_background": "light"
     },
     "output_type": "display_data"
    }
   ],
   "source": [
    "y = df_tgt_ct.y.reset_index(drop=True)\n",
    "# Forecast\n",
    "n_periods = 15\n",
    "fc, confint = model.predict(n_periods=n_periods, return_conf_int=True)\n",
    "index_of_fc = np.arange(len(df_tgt_ct.y), len(df_tgt_ct.y)+n_periods)\n",
    "\n",
    "# make series for plotting purpose\n",
    "fc_series = pd.Series(fc, index=index_of_fc)\n",
    "lower_series = pd.Series(confint[:, 0], index=index_of_fc)\n",
    "upper_series = pd.Series(confint[:, 1], index=index_of_fc)\n",
    "\n",
    "# Plot\n",
    "plt.plot(y[-200:],color = 'orange')\n",
    "plt.plot(fc_series, color='darkgreen')\n",
    "plt.fill_between(lower_series.index, \n",
    "                 lower_series, \n",
    "                 upper_series, \n",
    "                 color='k', alpha=.15)\n",
    "plt.xlabel('days')\n",
    "plt.ylabel(target)\n",
    "plt.title(\"Final Forecast of ARIMA\")\n",
    "plt.show()"
   ]
  },
  {
   "cell_type": "code",
   "execution_count": null,
   "metadata": {},
   "outputs": [],
   "source": []
  }
 ],
 "metadata": {
  "interpreter": {
   "hash": "c6e4e9f98eb68ad3b7c296f83d20e6de614cb42e90992a65aa266555a3137d0d"
  },
  "kernelspec": {
   "display_name": "Python 3.9.10 ('base')",
   "language": "python",
   "name": "python3"
  },
  "language_info": {
   "codemirror_mode": {
    "name": "ipython",
    "version": 3
   },
   "file_extension": ".py",
   "mimetype": "text/x-python",
   "name": "python",
   "nbconvert_exporter": "python",
   "pygments_lexer": "ipython3",
   "version": "3.9.12"
  },
  "orig_nbformat": 4
 },
 "nbformat": 4,
 "nbformat_minor": 2
}

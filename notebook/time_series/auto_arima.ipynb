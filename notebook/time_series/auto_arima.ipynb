{
 "cells": [
  {
   "cell_type": "code",
   "execution_count": 16,
   "metadata": {},
   "outputs": [],
   "source": [
    "from statsmodels.tsa.arima_model import ARIMA\n",
    "import pmdarima as pm\n",
    "import pandas as pd\n",
    "import numpy as np\n",
    "import matplotlib.pyplot as plt\n",
    "import os\n",
    "import sys\n",
    "sys.path.append('../')\n",
    "import config\n"
   ]
  },
  {
   "cell_type": "code",
   "execution_count": 8,
   "metadata": {},
   "outputs": [],
   "source": [
    "df = pd.read_csv('../../data/data_daily_with_aqi.csv')\n",
    "target = 'AQI'\n",
    "city ='北京'\n",
    "df_tgt = df[df.type==target].drop('type',axis=1)\n",
    "df_tgt_ct = df_tgt[['date',city]].rename(columns={'date':'ds',city:'y'})\n",
    "df_tgt_ct = df_tgt_ct.dropna()"
   ]
  },
  {
   "cell_type": "code",
   "execution_count": 15,
   "metadata": {},
   "outputs": [
    {
     "name": "stdout",
     "output_type": "stream",
     "text": [
      "Performing stepwise search to minimize aic\n",
      " ARIMA(1,0,1)(0,0,0)[0] intercept   : AIC=28763.535, Time=0.58 sec\n",
      " ARIMA(0,0,0)(0,0,0)[0] intercept   : AIC=29490.235, Time=0.02 sec\n",
      " ARIMA(1,0,0)(0,0,0)[0] intercept   : AIC=28767.189, Time=0.05 sec\n",
      " ARIMA(0,0,1)(0,0,0)[0] intercept   : AIC=28926.297, Time=0.25 sec\n",
      " ARIMA(0,0,0)(0,0,0)[0]             : AIC=31802.386, Time=0.01 sec\n",
      " ARIMA(2,0,1)(0,0,0)[0] intercept   : AIC=28664.518, Time=1.07 sec\n",
      " ARIMA(2,0,0)(0,0,0)[0] intercept   : AIC=28764.955, Time=0.08 sec\n",
      " ARIMA(3,0,1)(0,0,0)[0] intercept   : AIC=28738.099, Time=1.22 sec\n",
      " ARIMA(2,0,2)(0,0,0)[0] intercept   : AIC=28676.986, Time=1.30 sec\n",
      " ARIMA(1,0,2)(0,0,0)[0] intercept   : AIC=28676.559, Time=1.16 sec\n",
      " ARIMA(3,0,0)(0,0,0)[0] intercept   : AIC=28759.106, Time=0.33 sec\n",
      " ARIMA(3,0,2)(0,0,0)[0] intercept   : AIC=28747.301, Time=1.29 sec\n",
      " ARIMA(2,0,1)(0,0,0)[0]             : AIC=28658.624, Time=0.42 sec\n",
      " ARIMA(1,0,1)(0,0,0)[0]             : AIC=28991.432, Time=0.13 sec\n",
      " ARIMA(2,0,0)(0,0,0)[0]             : AIC=29133.518, Time=0.04 sec\n",
      " ARIMA(3,0,1)(0,0,0)[0]             : AIC=28656.709, Time=0.66 sec\n",
      " ARIMA(3,0,0)(0,0,0)[0]             : AIC=29049.164, Time=0.09 sec\n",
      " ARIMA(4,0,1)(0,0,0)[0]             : AIC=28657.132, Time=1.00 sec\n",
      " ARIMA(3,0,2)(0,0,0)[0]             : AIC=28657.957, Time=0.88 sec\n",
      " ARIMA(2,0,2)(0,0,0)[0]             : AIC=28657.221, Time=0.57 sec\n",
      " ARIMA(4,0,0)(0,0,0)[0]             : AIC=28963.419, Time=0.44 sec\n",
      " ARIMA(4,0,2)(0,0,0)[0]             : AIC=28653.886, Time=0.80 sec\n",
      " ARIMA(5,0,2)(0,0,0)[0]             : AIC=28655.335, Time=1.11 sec\n",
      " ARIMA(4,0,3)(0,0,0)[0]             : AIC=inf, Time=1.26 sec\n",
      " ARIMA(3,0,3)(0,0,0)[0]             : AIC=28654.575, Time=0.89 sec\n",
      " ARIMA(5,0,1)(0,0,0)[0]             : AIC=28659.110, Time=1.28 sec\n",
      " ARIMA(5,0,3)(0,0,0)[0]             : AIC=inf, Time=1.31 sec\n",
      " ARIMA(4,0,2)(0,0,0)[0] intercept   : AIC=28736.445, Time=1.44 sec\n",
      "\n",
      "Best model:  ARIMA(4,0,2)(0,0,0)[0]          \n",
      "Total fit time: 19.704 seconds\n",
      "                               SARIMAX Results                                \n",
      "==============================================================================\n",
      "Dep. Variable:                      y   No. Observations:                 2585\n",
      "Model:               SARIMAX(4, 0, 2)   Log Likelihood              -14319.943\n",
      "Date:                Mon, 16 May 2022   AIC                          28653.886\n",
      "Time:                        22:13:35   BIC                          28694.889\n",
      "Sample:                             0   HQIC                         28668.747\n",
      "                               - 2585                                         \n",
      "Covariance Type:                  opg                                         \n",
      "==============================================================================\n",
      "                 coef    std err          z      P>|z|      [0.025      0.975]\n",
      "------------------------------------------------------------------------------\n",
      "ar.L1          0.4180      0.023     18.028      0.000       0.373       0.463\n",
      "ar.L2          0.9248      0.028     33.061      0.000       0.870       0.980\n",
      "ar.L3         -0.3950      0.015    -27.120      0.000      -0.424      -0.366\n",
      "ar.L4          0.0514      0.015      3.489      0.000       0.023       0.080\n",
      "ma.L1          0.0151      0.020      0.739      0.460      -0.025       0.055\n",
      "ma.L2         -0.9350      0.019    -49.690      0.000      -0.972      -0.898\n",
      "sigma2      3790.8189     54.862     69.097      0.000    3683.291    3898.347\n",
      "===================================================================================\n",
      "Ljung-Box (L1) (Q):                   0.00   Jarque-Bera (JB):              4357.55\n",
      "Prob(Q):                              0.98   Prob(JB):                         0.00\n",
      "Heteroskedasticity (H):               0.26   Skew:                             0.96\n",
      "Prob(H) (two-sided):                  0.00   Kurtosis:                         9.06\n",
      "===================================================================================\n",
      "\n",
      "Warnings:\n",
      "[1] Covariance matrix calculated using the outer product of gradients (complex-step).\n"
     ]
    }
   ],
   "source": [
    "\n",
    "model = pm.auto_arima(df_tgt_ct['y'], start_p=1, start_q=1,\n",
    "                      information_criterion='aic',\n",
    "                      test='adf',       # use adftest to find optimal 'd'\n",
    "                      max_p=10, max_q=10, # maximum p and q\n",
    "                      m=1,              # frequency of series\n",
    "                      d=None,           # let model determine 'd'\n",
    "                      seasonal=True,   # No Seasonality\n",
    "                      start_P=0, \n",
    "                      D=0, \n",
    "                      trace=True,\n",
    "                      error_action='ignore',  \n",
    "                      suppress_warnings=True, \n",
    "                      stepwise=True)\n",
    "\n"
   ]
  },
  {
   "cell_type": "code",
   "execution_count": 34,
   "metadata": {},
   "outputs": [
    {
     "name": "stdout",
     "output_type": "stream",
     "text": [
      "                               SARIMAX Results                                \n",
      "==============================================================================\n",
      "Dep. Variable:                      y   No. Observations:                 2585\n",
      "Model:               SARIMAX(4, 0, 2)   Log Likelihood              -14319.943\n",
      "Date:                Mon, 16 May 2022   AIC                          28653.886\n",
      "Time:                        22:18:34   BIC                          28694.889\n",
      "Sample:                             0   HQIC                         28668.747\n",
      "                               - 2585                                         \n",
      "Covariance Type:                  opg                                         \n",
      "==============================================================================\n",
      "                 coef    std err          z      P>|z|      [0.025      0.975]\n",
      "------------------------------------------------------------------------------\n",
      "ar.L1          0.4180      0.023     18.028      0.000       0.373       0.463\n",
      "ar.L2          0.9248      0.028     33.061      0.000       0.870       0.980\n",
      "ar.L3         -0.3950      0.015    -27.120      0.000      -0.424      -0.366\n",
      "ar.L4          0.0514      0.015      3.489      0.000       0.023       0.080\n",
      "ma.L1          0.0151      0.020      0.739      0.460      -0.025       0.055\n",
      "ma.L2         -0.9350      0.019    -49.690      0.000      -0.972      -0.898\n",
      "sigma2      3790.8189     54.862     69.097      0.000    3683.291    3898.347\n",
      "===================================================================================\n",
      "Ljung-Box (L1) (Q):                   0.00   Jarque-Bera (JB):              4357.55\n",
      "Prob(Q):                              0.98   Prob(JB):                         0.00\n",
      "Heteroskedasticity (H):               0.26   Skew:                             0.96\n",
      "Prob(H) (two-sided):                  0.00   Kurtosis:                         9.06\n",
      "===================================================================================\n",
      "\n",
      "Warnings:\n",
      "[1] Covariance matrix calculated using the outer product of gradients (complex-step).\n"
     ]
    }
   ],
   "source": [
    "print(model.summary())"
   ]
  },
  {
   "cell_type": "code",
   "execution_count": 32,
   "metadata": {},
   "outputs": [
    {
     "data": {
      "image/png": "[encoded data removed]",
      "text/plain": [
       "<Figure size 432x288 with 1 Axes>"
      ]
     },
     "metadata": {
      "needs_background": "light"
     },
     "output_type": "display_data"
    }
   ],
   "source": [
    "y = df_tgt_ct.y.reset_index(drop=True)\n",
    "# Forecast\n",
    "n_periods = 15\n",
    "fc, confint = model.predict(n_periods=n_periods, return_conf_int=True)\n",
    "index_of_fc = np.arange(len(df_tgt_ct.y), len(df_tgt_ct.y)+n_periods)\n",
    "\n",
    "# make series for plotting purpose\n",
    "fc_series = pd.Series(fc, index=index_of_fc)\n",
    "lower_series = pd.Series(confint[:, 0], index=index_of_fc)\n",
    "upper_series = pd.Series(confint[:, 1], index=index_of_fc)\n",
    "\n",
    "# Plot\n",
    "plt.plot(y[-200:],color = 'orange')\n",
    "plt.plot(fc_series, color='darkgreen')\n",
    "plt.fill_between(lower_series.index, \n",
    "                 lower_series, \n",
    "                 upper_series, \n",
    "                 color='k', alpha=.15)\n",
    "\n",
    "plt.title(\"Final Forecast of ARIMA\")\n",
    "plt.show()"
   ]
  },
  {
   "cell_type": "code",
   "execution_count": null,
   "metadata": {},
   "outputs": [],
   "source": []
  }
 ],
 "metadata": {
  "interpreter": {
   "hash": "c6e4e9f98eb68ad3b7c296f83d20e6de614cb42e90992a65aa266555a3137d0d"
  },
  "kernelspec": {
   "display_name": "Python 3.9.10 ('base')",
   "language": "python",
   "name": "python3"
  },
  "language_info": {
   "codemirror_mode": {
    "name": "ipython",
    "version": 3
   },
   "file_extension": ".py",
   "mimetype": "text/x-python",
   "name": "python",
   "nbconvert_exporter": "python",
   "pygments_lexer": "ipython3",
   "version": "3.9.10"
  },
  "orig_nbformat": 4
 },
 "nbformat": 4,
 "nbformat_minor": 2
}

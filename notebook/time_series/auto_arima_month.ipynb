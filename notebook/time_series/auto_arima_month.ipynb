{
 "cells": [
  {
   "cell_type": "code",
   "execution_count": 22,
   "metadata": {},
   "outputs": [],
   "source": [
    "from statsmodels.tsa.arima_model import ARIMA\n",
    "import pmdarima as pm\n",
    "import pandas as pd\n",
    "import numpy as np\n",
    "import matplotlib.pyplot as plt\n",
    "import os\n",
    "import sys\n",
    "sys.path.append('../')\n",
    "import config\n",
    "import warnings\n",
    "warnings.filterwarnings('ignore')"
   ]
  },
  {
   "cell_type": "code",
   "execution_count": 11,
   "metadata": {},
   "outputs": [],
   "source": [
    "df = pd.read_csv('../../data/data_daily_with_aqi.csv')\n",
    "target = 'AQI'\n",
    "city ='北京'\n",
    "df_tgt = df[df.type==target].drop('type',axis=1)\n",
    "df_tgt_ct = df_tgt[['date',city]].rename(columns={'date':'ds',city:'y'})\n",
    "df_tgt_ct = df_tgt_ct.dropna()"
   ]
  },
  {
   "cell_type": "code",
   "execution_count": 12,
   "metadata": {},
   "outputs": [],
   "source": [
    "df_tgt_ct.set_index(pd.DatetimeIndex(df_tgt_ct['ds']),inplace=True)"
   ]
  },
  {
   "cell_type": "code",
   "execution_count": 13,
   "metadata": {},
   "outputs": [],
   "source": [
    "df_tgt_ct = df_tgt_ct.drop('ds',axis=1).resample('M').mean()"
   ]
  },
  {
   "cell_type": "code",
   "execution_count": 23,
   "metadata": {},
   "outputs": [
    {
     "data": {
      "text/plain": [
       "(-4.223098566651226,\n",
       " 0.0006020253266885583,\n",
       " 0,\n",
       " 87,\n",
       " {'1%': -3.5078527246648834,\n",
       "  '5%': -2.895382030636155,\n",
       "  '10%': -2.584823877658872},\n",
       " 684.9604877786004)"
      ]
     },
     "execution_count": 23,
     "metadata": {},
     "output_type": "execute_result"
    }
   ],
   "source": [
    "from statsmodels.tsa.stattools import adfuller\n",
    "adfuller(df_tgt_ct['y'])"
   ]
  },
  {
   "cell_type": "code",
   "execution_count": 20,
   "metadata": {},
   "outputs": [
    {
     "name": "stdout",
     "output_type": "stream",
     "text": [
      " ARIMA(0,0,0)(0,0,0)[1] intercept   : AIC=879.225, Time=0.00 sec\n",
      " ARIMA(0,0,1)(0,0,0)[1] intercept   : AIC=839.682, Time=0.04 sec\n",
      " ARIMA(0,0,2)(0,0,0)[1] intercept   : AIC=831.050, Time=0.05 sec\n",
      " ARIMA(0,0,3)(0,0,0)[1] intercept   : AIC=829.090, Time=0.10 sec\n",
      " ARIMA(0,0,4)(0,0,0)[1] intercept   : AIC=830.906, Time=0.16 sec\n",
      " ARIMA(0,0,5)(0,0,0)[1] intercept   : AIC=831.714, Time=0.14 sec\n",
      " ARIMA(1,0,0)(0,0,0)[1] intercept   : AIC=824.796, Time=0.01 sec\n",
      " ARIMA(1,0,1)(0,0,0)[1] intercept   : AIC=826.030, Time=0.04 sec\n",
      " ARIMA(1,0,2)(0,0,0)[1] intercept   : AIC=828.011, Time=0.11 sec\n",
      " ARIMA(1,0,3)(0,0,0)[1] intercept   : AIC=830.007, Time=0.13 sec\n",
      " ARIMA(1,0,4)(0,0,0)[1] intercept   : AIC=828.584, Time=0.29 sec\n",
      " ARIMA(2,0,0)(0,0,0)[1] intercept   : AIC=826.011, Time=0.03 sec\n",
      " ARIMA(2,0,1)(0,0,0)[1] intercept   : AIC=828.024, Time=0.08 sec\n",
      " ARIMA(2,0,2)(0,0,0)[1] intercept   : AIC=830.010, Time=0.11 sec\n",
      " ARIMA(2,0,3)(0,0,0)[1] intercept   : AIC=832.010, Time=0.12 sec\n",
      " ARIMA(3,0,0)(0,0,0)[1] intercept   : AIC=828.010, Time=0.15 sec\n",
      " ARIMA(3,0,1)(0,0,0)[1] intercept   : AIC=830.010, Time=0.07 sec\n",
      " ARIMA(3,0,2)(0,0,0)[1] intercept   : AIC=832.007, Time=0.06 sec\n",
      " ARIMA(4,0,0)(0,0,0)[1] intercept   : AIC=830.010, Time=0.14 sec\n",
      " ARIMA(4,0,1)(0,0,0)[1] intercept   : AIC=832.010, Time=0.10 sec\n",
      " ARIMA(5,0,0)(0,0,0)[1] intercept   : AIC=831.972, Time=0.18 sec\n",
      "\n",
      "Best model:  ARIMA(1,0,0)(0,0,0)[1] intercept\n",
      "Total fit time: 2.113 seconds\n"
     ]
    }
   ],
   "source": [
    "\n",
    "model = pm.auto_arima(df_tgt_ct.y, start_p=1, start_q=1,\n",
    "                      information_criterion='aic',\n",
    "                      test='adf',       # use adftest to find optimal 'd'\n",
    "                      max_p=10, max_q=10, # maximum p and q\n",
    "                      d=None,           # let model determine 'd'\n",
    "                      seasonal=True,   # Seasonality\n",
    "                      trace=True,\n",
    "                      error_action='ignore',  \n",
    "                      suppress_warnings=False, \n",
    "                      stepwise=False)\n"
   ]
  },
  {
   "cell_type": "code",
   "execution_count": 16,
   "metadata": {},
   "outputs": [
    {
     "name": "stdout",
     "output_type": "stream",
     "text": [
      "                               SARIMAX Results                                \n",
      "==============================================================================\n",
      "Dep. Variable:                      y   No. Observations:                   88\n",
      "Model:               SARIMAX(1, 0, 0)   Log Likelihood                -409.398\n",
      "Date:                Fri, 20 May 2022   AIC                            824.796\n",
      "Time:                        14:27:07   BIC                            832.228\n",
      "Sample:                             0   HQIC                           827.791\n",
      "                                 - 88                                         \n",
      "Covariance Type:                  opg                                         \n",
      "==============================================================================\n",
      "                 coef    std err          z      P>|z|      [0.025      0.975]\n",
      "------------------------------------------------------------------------------\n",
      "intercept     25.6122      7.706      3.324      0.001      10.508      40.716\n",
      "ar.L1          0.7086      0.064     11.146      0.000       0.584       0.833\n",
      "sigma2       638.2624     88.674      7.198      0.000     464.464     812.060\n",
      "===================================================================================\n",
      "Ljung-Box (L1) (Q):                   0.12   Jarque-Bera (JB):                19.02\n",
      "Prob(Q):                              0.73   Prob(JB):                         0.00\n",
      "Heteroskedasticity (H):               0.41   Skew:                             0.94\n",
      "Prob(H) (two-sided):                  0.02   Kurtosis:                         4.28\n",
      "===================================================================================\n",
      "\n",
      "Warnings:\n",
      "[1] Covariance matrix calculated using the outer product of gradients (complex-step).\n"
     ]
    }
   ],
   "source": [
    "print(model.summary())"
   ]
  },
  {
   "cell_type": "code",
   "execution_count": 18,
   "metadata": {},
   "outputs": [
    {
     "data": {
      "image/png": "[encoded data removed]",
      "text/plain": [
       "<Figure size 432x288 with 1 Axes>"
      ]
     },
     "metadata": {
      "needs_background": "light"
     },
     "output_type": "display_data"
    }
   ],
   "source": [
    "y = df_tgt_ct.y.reset_index(drop=True)\n",
    "# Forecast\n",
    "n_periods = 15\n",
    "fc, confint = model.predict(n_periods=n_periods, return_conf_int=True)\n",
    "index_of_fc = np.arange(len(df_tgt_ct.y), len(df_tgt_ct.y)+n_periods)\n",
    "\n",
    "# make series for plotting purpose\n",
    "fc_series = pd.Series(fc, index=index_of_fc)\n",
    "lower_series = pd.Series(confint[:, 0], index=index_of_fc)\n",
    "upper_series = pd.Series(confint[:, 1], index=index_of_fc)\n",
    "\n",
    "# Plot\n",
    "plt.plot(y[:],color = 'orange')\n",
    "plt.plot(fc_series, color='darkgreen')\n",
    "plt.fill_between(lower_series.index, \n",
    "                 lower_series, \n",
    "                 upper_series, \n",
    "                 color='k', alpha=.15)\n",
    "plt.xlabel('days')\n",
    "plt.ylabel(target)\n",
    "plt.title(\"Final Forecast of ARIMA\")\n",
    "plt.show()"
   ]
  },
  {
   "cell_type": "code",
   "execution_count": null,
   "metadata": {},
   "outputs": [],
   "source": []
  }
 ],
 "metadata": {
  "interpreter": {
   "hash": "c6e4e9f98eb68ad3b7c296f83d20e6de614cb42e90992a65aa266555a3137d0d"
  },
  "kernelspec": {
   "display_name": "Python 3.9.10 ('base')",
   "language": "python",
   "name": "python3"
  },
  "language_info": {
   "codemirror_mode": {
    "name": "ipython",
    "version": 3
   },
   "file_extension": ".py",
   "mimetype": "text/x-python",
   "name": "python",
   "nbconvert_exporter": "python",
   "pygments_lexer": "ipython3",
   "version": "3.9.12"
  },
  "orig_nbformat": 4
 },
 "nbformat": 4,
 "nbformat_minor": 2
}
